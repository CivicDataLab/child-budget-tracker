{
 "cells": [
  {
   "cell_type": "code",
   "execution_count": 1,
   "metadata": {},
   "outputs": [],
   "source": [
    "import numpy as np                               \n",
    "import pandas as pd                             \n",
    "import math\n",
    "import re\n",
    "import glob"
   ]
  },
  {
   "cell_type": "code",
   "execution_count": 2,
   "metadata": {},
   "outputs": [],
   "source": [
    "Andhra_pradesh_2014 = pd.read_csv('../data/Andhra_2014_updated.csv') "
   ]
  },
  {
   "cell_type": "code",
   "execution_count": 3,
   "metadata": {},
   "outputs": [],
   "source": [
    "match_words = ['child', 'girl', 'adolescent', 'orphan', \"beti\", \"balika\", \"primaryschool\", \"primary school\", \"high school\", \"highschool\", \"high school\", \"secondaryschool\", \"secondary school\", \"siksha\", \"sikshya\", \"sikhya\", \"sishu\", \"icds\", \"icps\"]"
   ]
  },
  {
   "cell_type": "code",
   "execution_count": 4,
   "metadata": {},
   "outputs": [],
   "source": [
    "list_1 = []\n",
    "for index, row in Andhra_pradesh_2014.iterrows():\n",
    "    for match_word in match_words:\n",
    "        if match_word in format(Andhra_pradesh_2014.iloc[index][\"Sub Head Description\"]).lower():\n",
    "            list_1.append(Andhra_pradesh_2014.iloc[index])\n",
    "            break"
   ]
  },
  {
   "cell_type": "code",
   "execution_count": 5,
   "metadata": {},
   "outputs": [],
   "source": [
    "Andhra_Pradesh_2014_with_child_tagging = pd.DataFrame(list_1)"
   ]
  },
  {
   "cell_type": "code",
   "execution_count": 8,
   "metadata": {},
   "outputs": [],
   "source": [
    "Andhra_Pradesh_2014_with_child_tagging.to_csv('../data/Andhra_Pradesh_2014_with_child_tagging.csv')"
   ]
  },
  {
   "cell_type": "code",
   "execution_count": null,
   "metadata": {},
   "outputs": [],
   "source": [
    "Andhra_pradesh_2015 = pd.read_csv('../data/Andhra_2015_updated.csv') "
   ]
  },
  {
   "cell_type": "code",
   "execution_count": null,
   "metadata": {},
   "outputs": [],
   "source": [
    "match_words = ['child', 'girl', 'adolescent', 'orphan', \"beti\", \"balika\", \"primaryschool\", \"primary school\", \"high school\", \"highschool\", \"high school\", \"secondaryschool\", \"secondary school\", \"siksha\", \"sikshya\", \"sikhya\", \"sishu\", \"icds\", \"icps\",\"Hindi Schools\",\"Arabic Schools\",\"Sanskrit Schools\",\"Available Schools\",\"Certified Schools\",\"Government Residential Schools\",\"Aided Schools\"]"
   ]
  },
  {
   "cell_type": "code",
   "execution_count": null,
   "metadata": {},
   "outputs": [],
   "source": [
    "list_2 = []\n",
    "for index, row in Andhra_pradesh_2015.iterrows():\n",
    "    for match_word in match_words:\n",
    "        if match_word in format(Andhra_pradesh_2015.iloc[index][\"Sub Head Description\"]).lower():\n",
    "            list_1.append(Andhra_pradesh_2015.iloc[index])\n",
    "            break"
   ]
  },
  {
   "cell_type": "code",
   "execution_count": null,
   "metadata": {},
   "outputs": [],
   "source": [
    "Andhra_Pradesh_2015_with_child_tagging = pd.DataFrame(list_1)"
   ]
  },
  {
   "cell_type": "code",
   "execution_count": null,
   "metadata": {},
   "outputs": [],
   "source": [
    "Andhra_Pradesh_2015_with_child_tagging.to_csv('../data/Andhra_Pradesh_2015_with_child_tagging.csv')"
   ]
  },
  {
   "cell_type": "code",
   "execution_count": null,
   "metadata": {},
   "outputs": [],
   "source": [
    "Andhra_pradesh_2016 = pd.read_csv('../data/Andhra_2016_updated.csv') "
   ]
  },
  {
   "cell_type": "code",
   "execution_count": null,
   "metadata": {},
   "outputs": [],
   "source": [
    "match_words = ['child', 'girl', 'adolescent', 'orphan', \"beti\", \"balika\", \"primaryschool\", \"primary school\", \"high school\", \"highschool\", \"high school\", \"secondaryschool\", \"secondary school\", \"siksha\", \"sikshya\", \"sikhya\", \"sishu\", \"icds\", \"icps\",\"Hindi Schools\",\"Arabic Schools\",\"Sanskrit Schools\",\"Available Schools\",\"Certified Schools\",\"Government Residential Schools\",\"Aided Schools\"]"
   ]
  },
  {
   "cell_type": "code",
   "execution_count": null,
   "metadata": {},
   "outputs": [],
   "source": [
    "list_3 = []\n",
    "for index, row in Andhra_pradesh_2016.iterrows():\n",
    "    for match_word in match_words:\n",
    "        if match_word in format(Andhra_pradesh_2016.iloc[index][\"Sub Head Description\"]).lower():\n",
    "            list_3.append(Andhra_pradesh_2016.iloc[index])\n",
    "            break"
   ]
  },
  {
   "cell_type": "code",
   "execution_count": null,
   "metadata": {},
   "outputs": [],
   "source": [
    "Andhra_Pradesh_2016_with_child_tagging = pd.DataFrame(list_3)"
   ]
  },
  {
   "cell_type": "code",
   "execution_count": null,
   "metadata": {},
   "outputs": [],
   "source": [
    "Andhra_Pradesh_2016_with_child_tagging.to_csv('../data/Andhra_Pradesh_2016_with_child_tagging.csv')"
   ]
  },
  {
   "cell_type": "code",
   "execution_count": null,
   "metadata": {},
   "outputs": [],
   "source": [
    "Andhra_pradesh_2017 = pd.read_csv('../data/Andhra_2017_updated.csv') "
   ]
  },
  {
   "cell_type": "code",
   "execution_count": null,
   "metadata": {},
   "outputs": [],
   "source": [
    "match_words = ['child', 'girl', 'adolescent', 'orphan', \"beti\", \"balika\", \"primaryschool\", \"primary school\", \"high school\", \"highschool\", \"high school\", \"secondaryschool\", \"secondary school\", \"siksha\", \"sikshya\", \"sikhya\", \"sishu\", \"icds\", \"icps\",\"Hindi Schools\",\"Arabic Schools\",\"Sanskrit Schools\",\"Available Schools\",\"Certified Schools\",\"Government Residential Schools\",\"Aided Schools\",\" Mid Day Meals in Schools\"]"
   ]
  },
  {
   "cell_type": "code",
   "execution_count": null,
   "metadata": {},
   "outputs": [],
   "source": [
    "list_4 = []\n",
    "for index, row in Andhra_pradesh_2017.iterrows():\n",
    "    for match_word in match_words:\n",
    "        if match_word in format(Andhra_pradesh_2017.iloc[index][\"Sub Head Description\"]).lower():\n",
    "            list_4.append(Andhra_pradesh_2017.iloc[index])\n",
    "            break"
   ]
  },
  {
   "cell_type": "code",
   "execution_count": null,
   "metadata": {},
   "outputs": [],
   "source": [
    "Andhra_Pradesh_2017_with_child_tagging = pd.DataFrame(list_4)"
   ]
  },
  {
   "cell_type": "code",
   "execution_count": null,
   "metadata": {},
   "outputs": [],
   "source": [
    "Andhra_Pradesh_2017_with_child_tagging.to_csv('../data/Andhra_Pradesh_2017_with_child_tagging.csv')"
   ]
  }
 ],
 "metadata": {
  "kernelspec": {
   "display_name": "Python 2",
   "language": "python",
   "name": "python2"
  },
  "language_info": {
   "codemirror_mode": {
    "name": "ipython",
    "version": 2
   },
   "file_extension": ".py",
   "mimetype": "text/x-python",
   "name": "python",
   "nbconvert_exporter": "python",
   "pygments_lexer": "ipython2",
   "version": "2.7.15rc1"
  }
 },
 "nbformat": 4,
 "nbformat_minor": 2
}
