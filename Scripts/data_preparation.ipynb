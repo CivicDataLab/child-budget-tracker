{
 "cells": [
  {
   "cell_type": "code",
   "execution_count": 1,
   "metadata": {},
   "outputs": [],
   "source": [
    "import numpy as np                               \n",
    "import pandas as pd                             \n",
    "import math\n",
    "import re\n",
    "import glob"
   ]
  },
  {
   "cell_type": "code",
   "execution_count": 2,
   "metadata": {},
   "outputs": [],
   "source": [
    "years = ['2014-15','2015-16', '2016-17','2017-18']\n",
    "for i in range(len(years)):\n",
    "    path =r'../data/Year_Wise_data/' + years[i]\n",
    "    andhra_allfiles = glob.glob(path + \"/*.csv\")# use your path\n",
    "    Andhra_files = []\n",
    "    for file_ in andhra_allfiles:\n",
    "        andhra_district_wise_df = pd.read_csv(file_,index_col=None, header=0)\n",
    "        Andhra_files.append(andhra_district_wise_df)\n",
    "        Andhra_year_wise_df = pd.concat(Andhra_files, axis = 0, ignore_index = True)\n",
    "        Andhra_year_wise_df.to_csv('../data/Andhra_' + years[i] + '.csv', index = False)"
   ]
  },
  {
   "cell_type": "code",
   "execution_count": null,
   "metadata": {},
   "outputs": [],
   "source": []
  }
 ],
 "metadata": {
  "kernelspec": {
   "display_name": "Python 2",
   "language": "python",
   "name": "python2"
  },
  "language_info": {
   "codemirror_mode": {
    "name": "ipython",
    "version": 3
   },
   "file_extension": ".py",
   "mimetype": "text/x-python",
   "name": "python",
   "nbconvert_exporter": "python",
   "pygments_lexer": "ipython3",
   "version": "3.6.8"
  }
 },
 "nbformat": 4,
 "nbformat_minor": 2
}
