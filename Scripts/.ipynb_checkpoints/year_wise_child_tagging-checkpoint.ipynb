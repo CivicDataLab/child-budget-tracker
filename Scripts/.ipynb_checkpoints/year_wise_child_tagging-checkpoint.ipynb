{
 "cells": [
  {
   "cell_type": "code",
   "execution_count": 1,
   "metadata": {},
   "outputs": [],
   "source": [
    "import numpy as np                               \n",
    "import pandas as pd                             \n",
    "import math\n",
    "import re\n",
    "import glob\n"
   ]
  },
  {
   "cell_type": "code",
   "execution_count": 2,
   "metadata": {},
   "outputs": [],
   "source": [
    "match_words_with_child = ['child', 'girl', 'adolescent', 'orphan', \"beti\", \"balika\", \"primaryschool\", \"primary school\", \"high school\", \"highschool\", \"high school\", \"secondaryschool\", \"secondary school\", \"siksha\", \"sikshya\", \"sikhya\", \"sishu\", \"icds\", \"icps\"]"
   ]
  },
  {
   "cell_type": "code",
   "execution_count": 3,
   "metadata": {},
   "outputs": [],
   "source": [
    "years = ['2014-15','2015-16','2016-17','2017-18']\n",
    "list_with_child_tagged_data = []\n",
    "for i in range(len(years)):\n",
    "    andhra_pradesh_year_wise = pd.read_csv('../data/Andhra_' + years[i] + '.csv')\n",
    "    for index, row in andhra_pradesh_year_wise.iterrows():\n",
    "            for match_word in match_words_with_child:\n",
    "                if match_word in format(andhra_pradesh_year_wise.iloc[index][\"Sub Head Description\"]).lower():\n",
    "                    list_with_child_tagged_data.append(andhra_pradesh_year_wise.iloc[index])\n",
    "                break\n",
    "    Andhra_Pradesh_child_tagging = pd.DataFrame(list_with_child_tagged_data)\n",
    "    Andhra_Pradesh_child_tagging.to_csv('../data/Andhra_Pradesh_'+ years[i] + '_with_child_tagging.csv', index = False)"
   ]
  },
  {
   "cell_type": "code",
   "execution_count": 4,
   "metadata": {},
   "outputs": [],
   "source": [
    "year = [2014,2015,2016,2017]\n",
    "for i in range(len(years)):\n",
    "    andhra_pradesh_with_child_tagging = pd.read_csv('../data/Andhra_Pradesh_' + years[i] + '_with_child_tagging.csv')\n",
    "    andhra_pradesh_with_child_tagging['Year'] = year[i]\n",
    "    andhra_pradesh_with_child_tagging.to_csv('../data/Andhra_Pradesh_'+ years[i] + '_with_child_tagging.csv', index = False)"
   ]
  },
  {
   "cell_type": "code",
   "execution_count": null,
   "metadata": {},
   "outputs": [],
   "source": []
  },
  {
   "cell_type": "code",
   "execution_count": null,
   "metadata": {},
   "outputs": [],
   "source": []
  }
 ],
 "metadata": {
  "kernelspec": {
   "display_name": "Python 2",
   "language": "python",
   "name": "python2"
  },
  "language_info": {
   "codemirror_mode": {
    "name": "ipython",
    "version": 3
   },
   "file_extension": ".py",
   "mimetype": "text/x-python",
   "name": "python",
   "nbconvert_exporter": "python",
   "pygments_lexer": "ipython3",
   "version": "3.6.8"
  }
 },
 "nbformat": 4,
 "nbformat_minor": 2
}
